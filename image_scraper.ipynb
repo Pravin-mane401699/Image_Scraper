{
 "cells": [
  {
   "cell_type": "code",
   "execution_count": 1,
   "id": "01fda64a",
   "metadata": {},
   "outputs": [],
   "source": [
    "import requests\n",
    "import logging\n",
    "import os\n",
    "from bs4 import BeautifulSoup\n",
    "from urllib.request import urlopen"
   ]
  },
  {
   "cell_type": "code",
   "execution_count": 2,
   "id": "111d3e43",
   "metadata": {},
   "outputs": [],
   "source": [
    "save_dir=\"images/\"\n",
    "if not os.path.exists(save_dir):\n",
    "    os.makedirs(save_dir)"
   ]
  },
  {
   "cell_type": "code",
   "execution_count": 36,
   "id": "0e341b50",
   "metadata": {},
   "outputs": [],
   "source": [
    "query=\"Sachin Tendulkar\"\n",
    "#url=https://www.google.co.in/search?sca_esv=553407556&bih=657&biw=1366&hl=en&sxsrf=AB5stBjgVN1b1HeUo_7KEmJQxJ1rk5xnMQ:1691062314210&q=chandrayaan+3&tbm=isch&source=lnms&sa=X&ved=2ahUKEwiZwZ-EssCAAxUmSGwGHVflBVMQ0pQJegQICRAB"
   ]
  },
  {
   "cell_type": "code",
   "execution_count": 37,
   "id": "ca1ddcbd",
   "metadata": {},
   "outputs": [],
   "source": [
    "responce=requests.get(f\"https://www.google.co.in/search?sca_esv=553407556&bih=657&biw=1366&hl=en&sxsrf=AB5stBjgVN1b1HeUo_7KEmJQxJ1rk5xnMQ:1691062314210&q={query}&tbm=isch&source=lnms&sa=X&ved=2ahUKEwiZwZ-EssCAAxUmSGwGHVflBVMQ0pQJegQICRAB\")"
   ]
  },
  {
   "cell_type": "code",
   "execution_count": 38,
   "id": "f99bf26b",
   "metadata": {},
   "outputs": [
    {
     "data": {
      "text/plain": [
       "<Response [200]>"
      ]
     },
     "execution_count": 38,
     "metadata": {},
     "output_type": "execute_result"
    }
   ],
   "source": [
    "responce"
   ]
  },
  {
   "cell_type": "code",
   "execution_count": 39,
   "id": "9ab4a0fe",
   "metadata": {},
   "outputs": [],
   "source": [
    "Soup=BeautifulSoup(responce.content,\"html.parser\")"
   ]
  },
  {
   "cell_type": "code",
   "execution_count": 40,
   "id": "e6e95699",
   "metadata": {},
   "outputs": [
    {
     "data": {
      "text/plain": [
       "<!DOCTYPE html PUBLIC \"-//WAPFORUM//DTD XHTML Mobile 1.0//EN\" \"http://www.wapforum.org/DTD/xhtml-mobile10.dtd\">\n",
       "<html lang=\"en-IN\" xmlns=\"http://www.w3.org/1999/xhtml\"><head><meta content=\"application/xhtml+xml; charset=utf-8\" http-equiv=\"Content-Type\"/><meta content=\"no-cache\" name=\"Cache-Control\"/><title>Sachin Tendulkar - Google Search</title><style>a{text-decoration:none;color:inherit}a:hover{text-decoration:underline}a img{border:0}body{font-family:arial,sans-serif;padding:8px;margin:0 auto;max-width:700px;min-width:240px;}.FbhRzb{border-left:thin solid #dadce0;border-right:thin solid #dadce0;border-top:thin solid #dadce0;height:40px;overflow:hidden}.n692Zd{margin-bottom:10px}.cvifge{height:40px;border-spacing:0}.QvGUP{height:40px;padding:0 8px 0 8px;vertical-align:top}.O4cRJf{height:40px;width:100%;padding:0;padding-right:16px}.O1ePr{height:40px;padding:0;vertical-align:top}.kgJEQe{height:36px;width:98px;vertical-align:top;margin-top:4px}.lXLRf{vertical-align:top}.MhzMZd{border:0;vertical-align:middle;font-size:14px;height:40px;padding:0;width:100%;padding-left:16px}.xB0fq{height:40px;border:none;font-size:14px;background-color:#1a73e8;color:#fff;padding:0 16px;margin:0;vertical-align:top;cursor:pointer}.xB0fq:focus{border:1px solid #1a73e8}.M7pB2{border:thin solid #dadce0;margin:0 0 3px 0;font-size:13px;font-weight:500;height:40px}.euZec{width:100%;height:40px;text-align:center;border-spacing:0}table.euZec td{padding:0;width:25%}.QIqI7{display:inline-block;padding-top:4px;font-weight:bold;color:#4285f4}.EY24We{border-bottom:2px solid #4285f4}.CsQyDc{display:inline-block;color:#70757a}.TuS8Ad{font-size:14px}.HddGcc{padding:8px;color:#70757a}.dzp8ae{font-weight:bold;color:#3c4043}.rEM8G{color:#70757a}.bookcf{table-layout:fixed;width:100%;border-spacing:0}.InWNIe{text-align:center}.uZgmoc{border:thin solid #dadce0;color:#70757a;font-size:14px;text-align:center;table-layout:fixed;width:100%}.frGj1b{display:block;padding:12px 0 12px 0;width:100%}.BnJWBc{text-align:center;padding:6px 0 13px 0;height:35px}.e3goi{vertical-align:top;padding:0;height:180px}.GpQGbf{margin:auto;border-collapse:collapse;border-spacing:0;width:100%}</style></head><body><style>.X6ZCif{color:#202124;font-size:11px;line-height:16px;display:inline-block;padding-top:2px;overflow:hidden;padding-bottom:4px;width:100%}.TwVfHd{border-radius:16px;border:thin solid #dadce0;display:inline-block;padding:8px 8px;margin-right:8px;margin-bottom:4px}.yekiAe{background-color:#dadce0}.mnTahd{width:100%}.ezO2md{border:thin solid #dadce0;padding:12px 16px 12px 16px;margin-bottom:10px;font-family:arial,sans-serif}.lIMUZd{font-family:arial,sans-serif}.IkMU6e{border-spacing:0}.SjCsie{width:100%}.EnarA{text-align:center}.NZWO1b{width:162px;height:140px;line-height:140px;overflow:'hidden';text-align:center}.yWs4tf{text-align:center;margin:auto;vertical-align:middle;max-width:162px;max-height:140px}.jB2rPd{padding-top:2px;padding-bottom:8px;}.fYyStc{word-break:break-word}.ynsChf{display:block;white-space:nowrap;overflow:hidden;text-overflow:ellipsis}.Fj3V3b{color:#1967d2;font-size:14px;line-height:20px}.FrIlee{color:#202124;font-size:11px;line-height:16px}.F9iS2e{color:#70757a;font-size:11px;line-height:16px}.WMQ2Le{color:#70757a;font-size:12px;line-height:16px}.x3G5ab{color:#202124;font-size:12px;line-height:16px}.fuLhoc{color:#1967d2;font-size:16px;line-height:20px}.epoveb{font-size:24px;line-height:28px;font-weight:400;color:#202124}.dXDvrc{color:#0d652d;font-size:14px;line-height:20px;word-wrap:break-word}.dloBPe{font-weight:bold}.YVIcad{color:#70757a}.JkVVdd{color:#ea4335}.oXZRFd{color:#ea4335}.MQHtg{color:#fbbc04}.pyMRrb{color:#1e8e3e}.EtTZid{color:#1e8e3e}.M3vVJe{color:#1967d2}.qXLe6d{display:block}.NHQNef{font-style:italic}.Cb8Z7c{white-space:pre}a.ZWRArf{text-decoration:none}a .CVA68e:hover{text-decoration:underline}</style><div class=\"n692Zd\"><div class=\"BnJWBc\"><a class=\"lXLRf\" href=\"/?sa=X&amp;sca_esv=553407556&amp;bih=657&amp;biw=1366&amp;hl=en&amp;output=images&amp;ie=UTF-8&amp;tbm=isch&amp;ved=0ahUKEwjbrNad-86AAxWj2DgGHXxPAw8QPAgC\"><img alt=\"Google\" class=\"kgJEQe\" src=\"/images/branding/searchlogo/1x/googlelogo_desk_heirloom_color_150x55dp.gif\"/></a></div><div class=\"FbhRzb\"><form action=\"/search\"><input name=\"sca_esv\" type=\"hidden\" value=\"553407556\"/><input name=\"bih\" type=\"hidden\" value=\"657\"/><input name=\"biw\" type=\"hidden\" value=\"1366\"/><input name=\"hl\" type=\"hidden\" value=\"en\"/><input name=\"ie\" type=\"hidden\" value=\"ISO-8859-1\"/><input name=\"tbm\" type=\"hidden\" value=\"isch\"/><input name=\"oq\" type=\"hidden\"/><input name=\"aqs\" type=\"hidden\"/><table class=\"cvifge\"><tr><td class=\"O4cRJf\"><input class=\"MhzMZd\" name=\"q\" type=\"text\" value=\"Sachin Tendulkar\"/></td><td class=\"O1ePr\"><input class=\"xB0fq\" type=\"submit\" value=\"Search\"/></td></tr></table></form></div><div class=\"M7pB2\"><table class=\"euZec\"><tbody><tr><td><a class=\"CsQyDc\" href=\"/search?q=Sachin+Tendulkar&amp;sca_esv=553407556&amp;bih=657&amp;biw=1366&amp;hl=en&amp;ie=UTF-8&amp;source=lnms&amp;sa=X&amp;ved=0ahUKEwjbrNad-86AAxWj2DgGHXxPAw8Q_AUIBCgA\">ALL</a></td><td class=\"EY24We\"><span class=\"QIqI7\">IMAGES</span></td><td><a class=\"CsQyDc\" href=\"/search?q=Sachin+Tendulkar&amp;sca_esv=553407556&amp;bih=657&amp;biw=1366&amp;hl=en&amp;ie=UTF-8&amp;tbm=nws&amp;source=lnms&amp;sa=X&amp;ved=0ahUKEwjbrNad-86AAxWj2DgGHXxPAw8Q_AUIBigC\">NEWS</a></td><td><a class=\"CsQyDc\" href=\"/search?q=Sachin+Tendulkar&amp;sca_esv=553407556&amp;bih=657&amp;biw=1366&amp;hl=en&amp;ie=UTF-8&amp;tbm=vid&amp;source=lnms&amp;sa=X&amp;ved=0ahUKEwjbrNad-86AAxWj2DgGHXxPAw8Q_AUIBygD\">VIDEOS</a></td></tr></tbody></table></div></div><div class=\"X6ZCif\"><a class=\"TwVfHd\" href=\"/search?sca_esv=553407556&amp;bih=657&amp;biw=1366&amp;hl=en&amp;ie=UTF-8&amp;tbm=isch&amp;q=Sachin+Tendulkar&amp;chips=q:sachin+tendulkar,g_1:batting&amp;sa=X&amp;ved=0ahUKEwjbrNad-86AAxWj2DgGHXxPAw8Q4lYICygA\">batting</a><a class=\"TwVfHd\" href=\"/search?sca_esv=553407556&amp;bih=657&amp;biw=1366&amp;hl=en&amp;ie=UTF-8&amp;tbm=isch&amp;q=Sachin+Tendulkar&amp;chips=q:sachin+tendulkar,g_1:wallpaper&amp;sa=X&amp;ved=0ahUKEwjbrNad-86AAxWj2DgGHXxPAw8Q4lYIDCgB\">wallpaper</a><a class=\"TwVfHd\" href=\"/search?sca_esv=553407556&amp;bih=657&amp;biw=1366&amp;hl=en&amp;ie=UTF-8&amp;tbm=isch&amp;q=Sachin+Tendulkar&amp;chips=q:sachin+tendulkar,g_1:century&amp;sa=X&amp;ved=0ahUKEwjbrNad-86AAxWj2DgGHXxPAw8Q4lYIDSgC\">century</a><a class=\"TwVfHd\" href=\"/search?sca_esv=553407556&amp;bih=657&amp;biw=1366&amp;hl=en&amp;ie=UTF-8&amp;tbm=isch&amp;q=Sachin+Tendulkar&amp;chips=q:sachin+tendulkar,g_1:family&amp;sa=X&amp;ved=0ahUKEwjbrNad-86AAxWj2DgGHXxPAw8Q4lYIDigD\">family</a><a class=\"TwVfHd\" href=\"/search?sca_esv=553407556&amp;bih=657&amp;biw=1366&amp;hl=en&amp;ie=UTF-8&amp;tbm=isch&amp;q=Sachin+Tendulkar&amp;chips=q:sachin+tendulkar,g_1:sketch&amp;sa=X&amp;ved=0ahUKEwjbrNad-86AAxWj2DgGHXxPAw8Q4lYIDygE\">sketch</a><a class=\"TwVfHd\" href=\"/search?sca_esv=553407556&amp;bih=657&amp;biw=1366&amp;hl=en&amp;ie=UTF-8&amp;tbm=isch&amp;q=Sachin+Tendulkar&amp;chips=q:sachin+tendulkar,g_1:virat+kohli&amp;sa=X&amp;ved=0ahUKEwjbrNad-86AAxWj2DgGHXxPAw8Q4lYIECgF\">virat kohli</a><a class=\"TwVfHd\" href=\"/search?sca_esv=553407556&amp;bih=657&amp;biw=1366&amp;hl=en&amp;ie=UTF-8&amp;tbm=isch&amp;q=Sachin+Tendulkar&amp;chips=q:sachin+tendulkar,g_1:ipl&amp;sa=X&amp;ved=0ahUKEwjbrNad-86AAxWj2DgGHXxPAw8Q4lYIESgG\">ipl</a><a class=\"TwVfHd\" href=\"/search?sca_esv=553407556&amp;bih=657&amp;biw=1366&amp;hl=en&amp;ie=UTF-8&amp;tbm=isch&amp;q=Sachin+Tendulkar&amp;chips=q:sachin+tendulkar,g_1:daughter&amp;sa=X&amp;ved=0ahUKEwjbrNad-86AAxWj2DgGHXxPAw8Q4lYIEigH\">daughter</a><a class=\"TwVfHd\" href=\"/search?sca_esv=553407556&amp;bih=657&amp;biw=1366&amp;hl=en&amp;ie=UTF-8&amp;tbm=isch&amp;q=Sachin+Tendulkar&amp;chips=q:sachin+tendulkar,g_1:bharat+ratna&amp;sa=X&amp;ved=0ahUKEwjbrNad-86AAxWj2DgGHXxPAw8Q4lYIEygI\">bharat ratna</a><a class=\"TwVfHd\" href=\"/search?sca_esv=553407556&amp;bih=657&amp;biw=1366&amp;hl=en&amp;ie=UTF-8&amp;tbm=isch&amp;q=Sachin+Tendulkar&amp;chips=q:sachin+tendulkar,g_1:painting&amp;sa=X&amp;ved=0ahUKEwjbrNad-86AAxWj2DgGHXxPAw8Q4lYIFCgJ\">painting</a></div><div><table class=\"GpQGbf\"><tr><td align=\"center\" class=\"e3goi\"><div class=\"mnTahd\"> <div> <div class=\"lIMUZd\"><div><table class=\"IkMU6e\"><tr><td><a href=\"/url?q=https://en.wikipedia.org/wiki/Sachin_Tendulkar&amp;sa=U&amp;ved=2ahUKEwjbrNad-86AAxWj2DgGHXxPAw8QqoUBegQIAxAB&amp;usg=AOvVaw1eQ4FGmq1_FF6CQrF6je1_\"><div class=\"NZWO1b\"><img alt=\"\" class=\"yWs4tf\" src=\"https://encrypted-tbn0.gstatic.com/images?q=tbn:ANd9GcSOPiBk25Ve4ouTl7oqmk2oTJLzSmGZ8X-aFXdPB7cuVGJYtBssSPZfjwfUt4U&amp;s\"/></div></a></td></tr><tr><td><a href=\"/url?q=https://en.wikipedia.org/wiki/Sachin_Tendulkar&amp;sa=U&amp;ved=2ahUKEwjbrNad-86AAxWj2DgGHXxPAw8Qr4kDegQIAxAC&amp;usg=AOvVaw2i80De4xxCt6JI7DIhGPvK\"><div class=\"jB2rPd\"> <span class=\"qXLe6d x3G5ab\"> <span class=\"fYyStc\">Sachin Tendulkar -...</span> </span> <span class=\"qXLe6d F9iS2e\"> <span class=\"fYyStc\">en.wikipedia.org</span> </span> </div></a></td></tr></table></div></div> </div> </div></td><td align=\"center\" class=\"e3goi\"><div class=\"mnTahd\"> <div> <div class=\"lIMUZd\"><div><table class=\"IkMU6e\"><tr><td><a href=\"/url?q=https://www.indiatoday.in/visualstories/sports/sachin-plays-cricket-with-anjali-sara-tendulkar-36607-15-05-2023&amp;sa=U&amp;ved=2ahUKEwjbrNad-86AAxWj2DgGHXxPAw8QqoUBegQIExAB&amp;usg=AOvVaw1OSafya5E0ELHkiBvCjts4\"><div class=\"NZWO1b\"><img alt=\"\" class=\"yWs4tf\" src=\"https://encrypted-tbn0.gstatic.com/images?q=tbn:ANd9GcSPmd2vpB5TkcWMqZ3v2747A58GAQPvn3oxZuvKbyK94NWBTVZRtoan1g62Iw&amp;s\"/></div></a></td></tr><tr><td><a href=\"/url?q=https://www.indiatoday.in/visualstories/sports/sachin-plays-cricket-with-anjali-sara-tendulkar-36607-15-05-2023&amp;sa=U&amp;ved=2ahUKEwjbrNad-86AAxWj2DgGHXxPAw8Qr4kDegQIExAC&amp;usg=AOvVaw2qaungbim3WRznCp_68BUy\"><div class=\"jB2rPd\"> <span class=\"qXLe6d x3G5ab\"> <span class=\"fYyStc\">Sachin plays cricket with...</span> </span> <span class=\"qXLe6d F9iS2e\"> <span class=\"fYyStc\">www.indiatoday.in</span> </span> </div></a></td></tr></table></div></div> </div> </div></td><td align=\"center\" class=\"e3goi\"><div class=\"mnTahd\"> <div> <div class=\"lIMUZd\"><div><table class=\"IkMU6e\"><tr><td><a href=\"/url?q=https://www.mensxp.com/ampstories/sports/cricket/98434-sachin-tendulkar-records-that-can-never-be-broken.html&amp;sa=U&amp;ved=2ahUKEwjbrNad-86AAxWj2DgGHXxPAw8QqoUBegQIEhAB&amp;usg=AOvVaw0mNw7_279pg0VWmHWHlva9\"><div class=\"NZWO1b\"><img alt=\"\" class=\"yWs4tf\" src=\"https://encrypted-tbn0.gstatic.com/images?q=tbn:ANd9GcTt8htWwl_CMSBNeT66lRrmapbgqCA9g4PgNNJMfXhw71_Z9GdYYtiJSryo_1s&amp;s\"/></div></a></td></tr><tr><td><a href=\"/url?q=https://www.mensxp.com/ampstories/sports/cricket/98434-sachin-tendulkar-records-that-can-never-be-broken.html&amp;sa=U&amp;ved=2ahUKEwjbrNad-86AAxWj2DgGHXxPAw8Qr4kDegQIEhAC&amp;usg=AOvVaw0AELh1geTds8_zapr08nu5\"><div class=\"jB2rPd\"> <span class=\"qXLe6d x3G5ab\"> <span class=\"fYyStc\">5 Sachin Tendulkar Records...</span> </span> <span class=\"qXLe6d F9iS2e\"> <span class=\"fYyStc\">www.mensxp.com</span> </span> </div></a></td></tr></table></div></div> </div> </div></td><td align=\"center\" class=\"e3goi\"><div class=\"mnTahd\"> <div> <div class=\"lIMUZd\"><div><table class=\"IkMU6e\"><tr><td><a href=\"/url?q=https://www.cricbuzz.com/profiles/25/sachin-tendulkar&amp;sa=U&amp;ved=2ahUKEwjbrNad-86AAxWj2DgGHXxPAw8QqoUBegQIERAB&amp;usg=AOvVaw2Jj0yErx1-RHwFEahuaetl\"><div class=\"NZWO1b\"><img alt=\"\" class=\"yWs4tf\" src=\"https://encrypted-tbn0.gstatic.com/images?q=tbn:ANd9GcRfHPyOjRMreJs6tOX4cZ_UmZro5DVUjwAwn2NniuTdHxnoKUN-p7AV0Xrzjw&amp;s\"/></div></a></td></tr><tr><td><a href=\"/url?q=https://www.cricbuzz.com/profiles/25/sachin-tendulkar&amp;sa=U&amp;ved=2ahUKEwjbrNad-86AAxWj2DgGHXxPAw8Qr4kDegQIERAC&amp;usg=AOvVaw07LIZdPUtuT1EY1RsksNUH\"><div class=\"jB2rPd\"> <span class=\"qXLe6d x3G5ab\"> <span class=\"fYyStc\">Sachin Tendulkar Profile -...</span> </span> <span class=\"qXLe6d F9iS2e\"> <span class=\"fYyStc\">www.cricbuzz.com</span> </span> </div></a></td></tr></table></div></div> </div> </div></td></tr><tr><td align=\"center\" class=\"e3goi\"><div class=\"mnTahd\"> <div> <div class=\"lIMUZd\"><div><table class=\"IkMU6e\"><tr><td><a href=\"/url?q=https://www.moneycontrol.com/news/trends/sports-trends/don-brandman-sachin-tendulkar-is-still-a-marketing-superstar-7-years-after-retirement-6044131.html&amp;sa=U&amp;ved=2ahUKEwjbrNad-86AAxWj2DgGHXxPAw8QqoUBegQIEBAB&amp;usg=AOvVaw0D7_aujPqr47GfK3P2T42t\"><div class=\"NZWO1b\"><img alt=\"\" class=\"yWs4tf\" src=\"https://encrypted-tbn0.gstatic.com/images?q=tbn:ANd9GcQ9s-KW2XbZmjiGNTLPaMTVksW5J4ACWbWggcgGB4bqMByf5UqnmmtQ7ZFk6Tg&amp;s\"/></div></a></td></tr><tr><td><a href=\"/url?q=https://www.moneycontrol.com/news/trends/sports-trends/don-brandman-sachin-tendulkar-is-still-a-marketing-superstar-7-years-after-retirement-6044131.html&amp;sa=U&amp;ved=2ahUKEwjbrNad-86AAxWj2DgGHXxPAw8Qr4kDegQIEBAC&amp;usg=AOvVaw2KdyPR4vPVP5EOtl5wPcLe\"><div class=\"jB2rPd\"> <span class=\"qXLe6d x3G5ab\"> <span class=\"fYyStc\">Don Brandman: Sachin...</span> </span> <span class=\"qXLe6d F9iS2e\"> <span class=\"fYyStc\">www.moneycontrol.com</span> </span> </div></a></td></tr></table></div></div> </div> </div></td><td align=\"center\" class=\"e3goi\"><div class=\"mnTahd\"> <div> <div class=\"lIMUZd\"><div><table class=\"IkMU6e\"><tr><td><a href=\"/url?q=https://www.hindustantimes.com/cricket/ipl-2022-sachin-tendulkar-talked-to-me-after-i-had-a-bad-game-says-mumbai-indians-bowler-basil-thampi-101652254468813.html&amp;sa=U&amp;ved=2ahUKEwjbrNad-86AAxWj2DgGHXxPAw8QqoUBegQIDBAB&amp;usg=AOvVaw1Lqnql12u0UwUwU_b941IN\"><div class=\"NZWO1b\"><img alt=\"\" class=\"yWs4tf\" src=\"https://encrypted-tbn0.gstatic.com/images?q=tbn:ANd9GcQFnfS9zb-tq0S62eYq6LFHMwSy22kgPRpIg2Xt4BUvUjtse-L6ho5qXbiIqFM&amp;s\"/></div></a></td></tr><tr><td><a href=\"/url?q=https://www.hindustantimes.com/cricket/ipl-2022-sachin-tendulkar-talked-to-me-after-i-had-a-bad-game-says-mumbai-indians-bowler-basil-thampi-101652254468813.html&amp;sa=U&amp;ved=2ahUKEwjbrNad-86AAxWj2DgGHXxPAw8Qr4kDegQIDBAC&amp;usg=AOvVaw1xJ5kaMvZN8rQ9N9UUcFNq\"><div class=\"jB2rPd\"> <span class=\"qXLe6d x3G5ab\"> <span class=\"fYyStc\">I had a bad game. Then I...</span> </span> <span class=\"qXLe6d F9iS2e\"> <span class=\"fYyStc\">www.hindustantimes.com</span> </span> </div></a></td></tr></table></div></div> </div> </div></td><td align=\"center\" class=\"e3goi\"><div class=\"mnTahd\"> <div> <div class=\"lIMUZd\"><div><table class=\"IkMU6e\"><tr><td><a href=\"/url?q=https://www.hindustantimes.com/cricket/sachin-tendulkar-batting-50-sitting-on-cricket-s-mt-everest-101682253844508.html&amp;sa=U&amp;ved=2ahUKEwjbrNad-86AAxWj2DgGHXxPAw8QqoUBegQIDhAB&amp;usg=AOvVaw3e7QjptMr7x3hDZXOxdl4s\"><div class=\"NZWO1b\"><img alt=\"\" class=\"yWs4tf\" src=\"https://encrypted-tbn0.gstatic.com/images?q=tbn:ANd9GcSiuM6xKdWvmuUjTcow4aYnhIX0fUYNHqpsIVddjdiboBA1Kpnh8QLJB9MCwg&amp;s\"/></div></a></td></tr><tr><td><a href=\"/url?q=https://www.hindustantimes.com/cricket/sachin-tendulkar-batting-50-sitting-on-cricket-s-mt-everest-101682253844508.html&amp;sa=U&amp;ved=2ahUKEwjbrNad-86AAxWj2DgGHXxPAw8Qr4kDegQIDhAC&amp;usg=AOvVaw3HEI3E4oghv3JtMxn03YM3\"><div class=\"jB2rPd\"> <span class=\"qXLe6d x3G5ab\"> <span class=\"fYyStc\">Sachin Tendulkar – Batting...</span> </span> <span class=\"qXLe6d F9iS2e\"> <span class=\"fYyStc\">www.hindustantimes.com</span> </span> </div></a></td></tr></table></div></div> </div> </div></td><td align=\"center\" class=\"e3goi\"><div class=\"mnTahd\"> <div> <div class=\"lIMUZd\"><div><table class=\"IkMU6e\"><tr><td><a href=\"/url?q=https://www.jagran.com/cricket/apni-baat-sachin-tendulkar-sachin-tendulkar-biography-personal-life-achievements-career-captaincy-cricket-world-cup-23393532.html&amp;sa=U&amp;ved=2ahUKEwjbrNad-86AAxWj2DgGHXxPAw8QqoUBegQIDRAB&amp;usg=AOvVaw2WZTSgioK-yHD_bzPy5mK5\"><div class=\"NZWO1b\"><img alt=\"\" class=\"yWs4tf\" src=\"https://encrypted-tbn0.gstatic.com/images?q=tbn:ANd9GcSRFlBP-hH_sbeZ-gqTWj5yv9Z21PX9urEUbe3ZkEqp8JsDpp9j-8bNtJMXfg&amp;s\"/></div></a></td></tr><tr><td><a href=\"/url?q=https://www.jagran.com/cricket/apni-baat-sachin-tendulkar-sachin-tendulkar-biography-personal-life-achievements-career-captaincy-cricket-world-cup-23393532.html&amp;sa=U&amp;ved=2ahUKEwjbrNad-86AAxWj2DgGHXxPAw8Qr4kDegQIDRAC&amp;usg=AOvVaw3s1AMDqj3lVxftILv1EVDq\"><div class=\"jB2rPd\"> <span class=\"qXLe6d x3G5ab\"> <span class=\"fYyStc\">सचिन तेंदुलकर - Sachin...</span> </span> <span class=\"qXLe6d F9iS2e\"> <span class=\"fYyStc\">www.jagran.com</span> </span> </div></a></td></tr></table></div></div> </div> </div></td></tr><tr><td align=\"center\" class=\"e3goi\"><div class=\"mnTahd\"> <div> <div class=\"lIMUZd\"><div><table class=\"IkMU6e\"><tr><td><a href=\"/url?q=https://www.cricketnmore.com/cricket-special/50-and-fab-recalling-sachins-5-memorable-innings-across-formats-121423&amp;sa=U&amp;ved=2ahUKEwjbrNad-86AAxWj2DgGHXxPAw8QqoUBegQIChAB&amp;usg=AOvVaw0izSZFyLpC47MjNGiMvPGE\"><div class=\"NZWO1b\"><img alt=\"\" class=\"yWs4tf\" src=\"https://encrypted-tbn0.gstatic.com/images?q=tbn:ANd9GcT7AtQ0cCO-bFCwNq624byXz_wSii5ot7k1npDYr5WEkmd06aq3ajiKY_mqEA&amp;s\"/></div></a></td></tr><tr><td><a href=\"/url?q=https://www.cricketnmore.com/cricket-special/50-and-fab-recalling-sachins-5-memorable-innings-across-formats-121423&amp;sa=U&amp;ved=2ahUKEwjbrNad-86AAxWj2DgGHXxPAw8Qr4kDegQIChAC&amp;usg=AOvVaw350khCnWjO2or7PcbfCw38\"><div class=\"jB2rPd\"> <span class=\"qXLe6d x3G5ab\"> <span class=\"fYyStc\">50 and Fab: Recalling...</span> </span> <span class=\"qXLe6d F9iS2e\"> <span class=\"fYyStc\">www.cricketnmore.com</span> </span> </div></a></td></tr></table></div></div> </div> </div></td><td align=\"center\" class=\"e3goi\"><div class=\"mnTahd\"> <div> <div class=\"lIMUZd\"><div><table class=\"IkMU6e\"><tr><td><a href=\"/url?q=https://www.womenscriczone.com/opinion/u19-world-cup-underlines-huge-season-for-women-says-sachin-tendulkar&amp;sa=U&amp;ved=2ahUKEwjbrNad-86AAxWj2DgGHXxPAw8QqoUBegQICRAB&amp;usg=AOvVaw3p3m_jzBxBD8Iq-QpSWMpD\"><div class=\"NZWO1b\"><img alt=\"\" class=\"yWs4tf\" src=\"https://encrypted-tbn0.gstatic.com/images?q=tbn:ANd9GcSBt96nAcow0edJDrYV19c1Kw2hk4uUJ2MDDL9XYrJbYwXKq6J1G78fqefHPaA&amp;s\"/></div></a></td></tr><tr><td><a href=\"/url?q=https://www.womenscriczone.com/opinion/u19-world-cup-underlines-huge-season-for-women-says-sachin-tendulkar&amp;sa=U&amp;ved=2ahUKEwjbrNad-86AAxWj2DgGHXxPAw8Qr4kDegQICRAC&amp;usg=AOvVaw2rwl2WOc7eKjPxXxUAIVLu\"><div class=\"jB2rPd\"> <span class=\"qXLe6d x3G5ab\"> <span class=\"fYyStc\">Sachin Tendulkar column:...</span> </span> <span class=\"qXLe6d F9iS2e\"> <span class=\"fYyStc\">www.womenscriczone.com</span> </span> </div></a></td></tr></table></div></div> </div> </div></td><td align=\"center\" class=\"e3goi\"><div class=\"mnTahd\"> <div> <div class=\"lIMUZd\"><div><table class=\"IkMU6e\"><tr><td><a href=\"/url?q=https://timesofindia.indiatimes.com/sports/cricket/news/on-this-day-in-2012-sachin-tendulkar-became-first-batter-to-register-100th-international-ton/articleshow/90271902.cms&amp;sa=U&amp;ved=2ahUKEwjbrNad-86AAxWj2DgGHXxPAw8QqoUBegQICxAB&amp;usg=AOvVaw3s1gOxbVSaAWgRurWKp-IZ\"><div class=\"NZWO1b\"><img alt=\"\" class=\"yWs4tf\" src=\"https://encrypted-tbn0.gstatic.com/images?q=tbn:ANd9GcRrWbSaRzq2PpigqK_Nt4t_hTaBQ5u3yUgzF191Qct8EhIps1-svwctwp0q0JA&amp;s\"/></div></a></td></tr><tr><td><a href=\"/url?q=https://timesofindia.indiatimes.com/sports/cricket/news/on-this-day-in-2012-sachin-tendulkar-became-first-batter-to-register-100th-international-ton/articleshow/90271902.cms&amp;sa=U&amp;ved=2ahUKEwjbrNad-86AAxWj2DgGHXxPAw8Qr4kDegQICxAC&amp;usg=AOvVaw1pyh7hsHy1FzIfQmAxREWq\"><div class=\"jB2rPd\"> <span class=\"qXLe6d x3G5ab\"> <span class=\"fYyStc\">On this day in 2012: Sachin...</span> </span> <span class=\"qXLe6d F9iS2e\"> <span class=\"fYyStc\">timesofindia.indiatimes.com...</span> </span> </div></a></td></tr></table></div></div> </div> </div></td><td align=\"center\" class=\"e3goi\"><div class=\"mnTahd\"> <div> <div class=\"lIMUZd\"><div><table class=\"IkMU6e\"><tr><td><a href=\"/url?q=https://www.cricketcountry.com/articles/sachin-tendulkar-mdash-understanding-the-degree-of-difficulty-of-the-rare-shots-essayed-by-a-batting-genius-32173&amp;sa=U&amp;ved=2ahUKEwjbrNad-86AAxWj2DgGHXxPAw8QqoUBegQIDxAB&amp;usg=AOvVaw3XHbuyxWLBYl7qPfsHKJ7Q\"><div class=\"NZWO1b\"><img alt=\"\" class=\"yWs4tf\" src=\"https://encrypted-tbn0.gstatic.com/images?q=tbn:ANd9GcSScQOmdaFkulXgXt_G68mOPSvZ4WviFY_CE73mzWrpQIXhnu5Sqb3YBDU-cLY&amp;s\"/></div></a></td></tr><tr><td><a href=\"/url?q=https://www.cricketcountry.com/articles/sachin-tendulkar-mdash-understanding-the-degree-of-difficulty-of-the-rare-shots-essayed-by-a-batting-genius-32173&amp;sa=U&amp;ved=2ahUKEwjbrNad-86AAxWj2DgGHXxPAw8Qr4kDegQIDxAC&amp;usg=AOvVaw3zEwY_OaLMJKHvbkU6Ri9W\"><div class=\"jB2rPd\"> <span class=\"qXLe6d x3G5ab\"> <span class=\"fYyStc\">Sachin Tendulkar —...</span> </span> <span class=\"qXLe6d F9iS2e\"> <span class=\"fYyStc\">www.cricketcountry.com</span> </span> </div></a></td></tr></table></div></div> </div> </div></td></tr><tr><td align=\"center\" class=\"e3goi\"><div class=\"mnTahd\"> <div> <div class=\"lIMUZd\"><div><table class=\"IkMU6e\"><tr><td><a href=\"/url?q=https://www.asianage.com/sports/cricket/240420/desert-storm-voted-tendulkars-top-odi-innings-on-birthday.html&amp;sa=U&amp;ved=2ahUKEwjbrNad-86AAxWj2DgGHXxPAw8QqoUBegQIAhAB&amp;usg=AOvVaw2t2Cm4RPUVyWOCaHEhQtCY\"><div class=\"NZWO1b\"><img alt=\"\" class=\"yWs4tf\" src=\"https://encrypted-tbn0.gstatic.com/images?q=tbn:ANd9GcRE39jy3EkchFrOpvCIyyhkigjXvOi1J0E4cXQK8orvWT_ETKTyk3u3_aOsQ-A&amp;s\"/></div></a></td></tr><tr><td><a href=\"/url?q=https://www.asianage.com/sports/cricket/240420/desert-storm-voted-tendulkars-top-odi-innings-on-birthday.html&amp;sa=U&amp;ved=2ahUKEwjbrNad-86AAxWj2DgGHXxPAw8Qr4kDegQIAhAC&amp;usg=AOvVaw1WH1uZZiLaWfp62zTzDCNX\"><div class=\"jB2rPd\"> <span class=\"qXLe6d x3G5ab\"> <span class=\"fYyStc\">Desert Storm' voted...</span> </span> <span class=\"qXLe6d F9iS2e\"> <span class=\"fYyStc\">www.asianage.com</span> </span> </div></a></td></tr></table></div></div> </div> </div></td><td align=\"center\" class=\"e3goi\"><div class=\"mnTahd\"> <div> <div class=\"lIMUZd\"><div><table class=\"IkMU6e\"><tr><td><a href=\"/url?q=https://www.sportskeeda.com/cricket/sachin-tendulkar-net-worth&amp;sa=U&amp;ved=2ahUKEwjbrNad-86AAxWj2DgGHXxPAw8QqoUBegQIBhAB&amp;usg=AOvVaw2ObaRYprJsc6mFa_DnG9sR\"><div class=\"NZWO1b\"><img alt=\"\" class=\"yWs4tf\" src=\"https://encrypted-tbn0.gstatic.com/images?q=tbn:ANd9GcTrEg7hyAzOSuJh_0YRv4GgJhojoLHTm-g5qyNaaJ1OGY9Ngmq-l4x4v3dxIQ&amp;s\"/></div></a></td></tr><tr><td><a href=\"/url?q=https://www.sportskeeda.com/cricket/sachin-tendulkar-net-worth&amp;sa=U&amp;ved=2ahUKEwjbrNad-86AAxWj2DgGHXxPAw8Qr4kDegQIBhAC&amp;usg=AOvVaw0Jt6FxvmdUKdxumhx8J9_p\"><div class=\"jB2rPd\"> <span class=\"qXLe6d x3G5ab\"> <span class=\"fYyStc\">Sachin Tendulkar's Net...</span> </span> <span class=\"qXLe6d F9iS2e\"> <span class=\"fYyStc\">www.sportskeeda.com</span> </span> </div></a></td></tr></table></div></div> </div> </div></td><td align=\"center\" class=\"e3goi\"><div class=\"mnTahd\"> <div> <div class=\"lIMUZd\"><div><table class=\"IkMU6e\"><tr><td><a href=\"/url?q=https://timesofindia.indiatimes.com/sports/cricket/web-stories/sachin-tendulkar-turns-50/photostory/99705596.cms&amp;sa=U&amp;ved=2ahUKEwjbrNad-86AAxWj2DgGHXxPAw8QqoUBegQIARAB&amp;usg=AOvVaw09TZVR0uRg1Qd-geUAdBpd\"><div class=\"NZWO1b\"><img alt=\"\" class=\"yWs4tf\" src=\"https://encrypted-tbn0.gstatic.com/images?q=tbn:ANd9GcR9wOygeTLT9rxxr17ih4kEYsZSQAcMjIJHdxZvfeaXg-HPGMseCJC83FYrXQ&amp;s\"/></div></a></td></tr><tr><td><a href=\"/url?q=https://timesofindia.indiatimes.com/sports/cricket/web-stories/sachin-tendulkar-turns-50/photostory/99705596.cms&amp;sa=U&amp;ved=2ahUKEwjbrNad-86AAxWj2DgGHXxPAw8Qr4kDegQIARAC&amp;usg=AOvVaw3azCXrorvWiodtu0R6TeUh\"><div class=\"jB2rPd\"> <span class=\"qXLe6d x3G5ab\"> <span class=\"fYyStc\">Sachin birthday: Sachin...</span> </span> <span class=\"qXLe6d F9iS2e\"> <span class=\"fYyStc\">timesofindia.indiatimes.com...</span> </span> </div></a></td></tr></table></div></div> </div> </div></td><td align=\"center\" class=\"e3goi\"><div class=\"mnTahd\"> <div> <div class=\"lIMUZd\"><div><table class=\"IkMU6e\"><tr><td><a href=\"/url?q=https://www.icc-cricket.com/news/1660287&amp;sa=U&amp;ved=2ahUKEwjbrNad-86AAxWj2DgGHXxPAw8QqoUBegQIABAB&amp;usg=AOvVaw04M3mNiwmHADBzhltxbmJE\"><div class=\"NZWO1b\"><img alt=\"\" class=\"yWs4tf\" src=\"https://encrypted-tbn0.gstatic.com/images?q=tbn:ANd9GcR_Omi17ZKnnp3PsgN1zkd_L8FjGlkTQl1y3L6JrzjISzQ8dfbRrjZySGfUCQ&amp;s\"/></div></a></td></tr><tr><td><a href=\"/url?q=https://www.icc-cricket.com/news/1660287&amp;sa=U&amp;ved=2ahUKEwjbrNad-86AAxWj2DgGHXxPAw8Qr4kDegQIABAC&amp;usg=AOvVaw0sZz4Y-Ea0SJYav2d73DKk\"><div class=\"jB2rPd\"> <span class=\"qXLe6d x3G5ab\"> <span class=\"fYyStc\">Sachin Tendulkar – Top ODI...</span> </span> <span class=\"qXLe6d F9iS2e\"> <span class=\"fYyStc\">www.icc-cricket.com</span> </span> </div></a></td></tr></table></div></div> </div> </div></td></tr><tr><td align=\"center\" class=\"e3goi\"><div class=\"mnTahd\"> <div> <div class=\"lIMUZd\"><div><table class=\"IkMU6e\"><tr><td><a href=\"/url?q=https://www.espncricinfo.com/cricketers/sachin-tendulkar-35320&amp;sa=U&amp;ved=2ahUKEwjbrNad-86AAxWj2DgGHXxPAw8QqoUBegQIBBAB&amp;usg=AOvVaw2_JNY2CA_x_5v0VLoEjTOH\"><div class=\"NZWO1b\"><img alt=\"\" class=\"yWs4tf\" src=\"https://encrypted-tbn0.gstatic.com/images?q=tbn:ANd9GcTu1VgHBrm9Ilm2-onnZ0MIPEb3ym7F6gvcF9Ec6MPWAhj7sdrMFagx2_11yg&amp;s\"/></div></a></td></tr><tr><td><a href=\"/url?q=https://www.espncricinfo.com/cricketers/sachin-tendulkar-35320&amp;sa=U&amp;ved=2ahUKEwjbrNad-86AAxWj2DgGHXxPAw8Qr4kDegQIBBAC&amp;usg=AOvVaw3j0P96GVZlRqj3dS-kTZ29\"><div class=\"jB2rPd\"> <span class=\"qXLe6d x3G5ab\"> <span class=\"fYyStc\">Sachin Tendulkar Profile -...</span> </span> <span class=\"qXLe6d F9iS2e\"> <span class=\"fYyStc\">www.espncricinfo.com</span> </span> </div></a></td></tr></table></div></div> </div> </div></td><td align=\"center\" class=\"e3goi\"><div class=\"mnTahd\"> <div> <div class=\"lIMUZd\"><div><table class=\"IkMU6e\"><tr><td><a href=\"/url?q=https://hindi.news18.com/photogallery/education/celeb-education-sachin-tendulkar-to-mahendra-singh-dhoni-5-indian-cricketer-left-studies-and-their-career-7178131.html&amp;sa=U&amp;ved=2ahUKEwjbrNad-86AAxWj2DgGHXxPAw8QqoUBegQIBxAB&amp;usg=AOvVaw1C9XfNbngFL3tGAmtaOxX-\"><div class=\"NZWO1b\"><img alt=\"\" class=\"yWs4tf\" src=\"https://encrypted-tbn0.gstatic.com/images?q=tbn:ANd9GcRxI5hGI6biQGc8wrJU5Poewwy9CDQv3Hyiz3_QwzDFM3jBkVlP9XFVhP5Bup8&amp;s\"/></div></a></td></tr><tr><td><a href=\"/url?q=https://hindi.news18.com/photogallery/education/celeb-education-sachin-tendulkar-to-mahendra-singh-dhoni-5-indian-cricketer-left-studies-and-their-career-7178131.html&amp;sa=U&amp;ved=2ahUKEwjbrNad-86AAxWj2DgGHXxPAw8Qr4kDegQIBxAC&amp;usg=AOvVaw0cdF39iczmU76XrxHpJ6wg\"><div class=\"jB2rPd\"> <span class=\"qXLe6d x3G5ab\"> <span class=\"fYyStc\">Celeb Education : सचिन...</span> </span> <span class=\"qXLe6d F9iS2e\"> <span class=\"fYyStc\">hindi.news18.com</span> </span> </div></a></td></tr></table></div></div> </div> </div></td><td align=\"center\" class=\"e3goi\"><div class=\"mnTahd\"> <div> <div class=\"lIMUZd\"><div><table class=\"IkMU6e\"><tr><td><a href=\"/url?q=https://www.homeoft20.com/sachin-tendulkar/&amp;sa=U&amp;ved=2ahUKEwjbrNad-86AAxWj2DgGHXxPAw8QqoUBegQIBRAB&amp;usg=AOvVaw0lT0b3_KfNeQJCO2YJCdPY\"><div class=\"NZWO1b\"><img alt=\"\" class=\"yWs4tf\" src=\"https://encrypted-tbn0.gstatic.com/images?q=tbn:ANd9GcTH7x1w6POOsjWzx-Xzb1YvN39a8qP25-6RDjoJCA_piSxkpX8eNyZCxA6IUWw&amp;s\"/></div></a></td></tr><tr><td><a href=\"/url?q=https://www.homeoft20.com/sachin-tendulkar/&amp;sa=U&amp;ved=2ahUKEwjbrNad-86AAxWj2DgGHXxPAw8Qr4kDegQIBRAC&amp;usg=AOvVaw3LPq5LZP5YBeFrACzCyqiB\"><div class=\"jB2rPd\"> <span class=\"qXLe6d x3G5ab\"> <span class=\"fYyStc\">Sachin Tendulkar Biography...</span> </span> <span class=\"qXLe6d F9iS2e\"> <span class=\"fYyStc\">www.homeoft20.com</span> </span> </div></a></td></tr></table></div></div> </div> </div></td><td align=\"center\" class=\"e3goi\"><div class=\"mnTahd\"> <div> <div class=\"lIMUZd\"><div><table class=\"IkMU6e\"><tr><td><a href=\"/url?q=https://sports.ndtv.com/cricket/amid-the-hustle-bustle-sachin-tendulkars-special-post-on-friendship-day-4273922&amp;sa=U&amp;ved=2ahUKEwjbrNad-86AAxWj2DgGHXxPAw8QqoUBegQICBAB&amp;usg=AOvVaw2H9X4cSudPqKd_2EjQa74s\"><div class=\"NZWO1b\"><img alt=\"\" class=\"yWs4tf\" src=\"https://encrypted-tbn0.gstatic.com/images?q=tbn:ANd9GcRw3ICMzyQFHcEGDm4FP2Su_vBmpyGnDXmoAR0qJrkiR5KmRAwDYEkpKUIkVg&amp;s\"/></div></a></td></tr><tr><td><a href=\"/url?q=https://sports.ndtv.com/cricket/amid-the-hustle-bustle-sachin-tendulkars-special-post-on-friendship-day-4273922&amp;sa=U&amp;ved=2ahUKEwjbrNad-86AAxWj2DgGHXxPAw8Qr4kDegQICBAC&amp;usg=AOvVaw0eiaA0ArNXEpqP6_xEhMo8\"><div class=\"jB2rPd\"> <span class=\"qXLe6d x3G5ab\"> <span class=\"fYyStc\">Amid The Hustle Bustle...\":...</span> </span> <span class=\"qXLe6d F9iS2e\"> <span class=\"fYyStc\">sports.ndtv.com</span> </span> </div></a></td></tr></table></div></div> </div> </div></td></tr></table></div><table class=\"uZgmoc\"><tbody><td><a class=\"frGj1b\" href=\"/search?q=Sachin+Tendulkar&amp;sca_esv=553407556&amp;bih=657&amp;biw=1366&amp;hl=en&amp;ie=UTF-8&amp;tbm=isch&amp;ei=9zPTZJvVJ6Ox4-EP_J6NeA&amp;start=20&amp;sa=N\">Next &gt;</a></td></tbody></table><br/><div class=\"TuS8Ad\" data-ved=\"0ahUKEwjbrNad-86AAxWj2DgGHXxPAw8QpyoIUg\"><style>.VYM29{font-weight:bold}</style><div align=\"center\" class=\"HddGcc\"><span class=\"VYM29\">Nagpur, Maharashtra</span><span> - </span><span>From your IP address</span><span> - </span><a href=\"/url?q=https://support.google.com/websearch%3Fp%3Dws_settings_location%26hl%3Den-IN&amp;sa=U&amp;ved=0ahUKEwjbrNad-86AAxWj2DgGHXxPAw8Qty4IUw&amp;usg=AOvVaw2BOV-6mql6WsbQkX1jos-p\">Learn more</a></div><div align=\"center\"><a class=\"rEM8G\" href=\"/url?q=https://accounts.google.com/ServiceLogin%3Fcontinue%3Dhttps://www.google.co.in/search%253Fsca_esv%253D553407556%2526bih%253D657%2526biw%253D1366%2526hl%253Den%2526sxsrf%253DAB5stBjgVN1b1HeUo_7KEmJQxJ1rk5xnMQ:1691062314210%2526q%253DSachin%252BTendulkar%2526tbm%253Disch%2526source%253Dlnms%2526sa%253DX%2526ved%253D2ahUKEwiZwZ-EssCAAxUmSGwGHVflBVMQ0pQJegQICRAB%26hl%3Den&amp;sa=U&amp;ved=0ahUKEwjbrNad-86AAxWj2DgGHXxPAw8Qxs8CCFQ&amp;usg=AOvVaw0BpJzXtmqX3qJtL996W2qe\">Sign in</a></div><div><table class=\"bookcf\"><tbody class=\"InWNIe\"><tr><td><a class=\"rEM8G\" href=\"https://www.google.co.in/preferences?hl=en&amp;sa=X&amp;ved=0ahUKEwjbrNad-86AAxWj2DgGHXxPAw8Qv5YECFU\">Settings</a></td><td><a class=\"rEM8G\" href=\"https://www.google.co.in/intl/en_in/policies/privacy/\">Privacy</a></td><td><a class=\"rEM8G\" href=\"https://www.google.co.in/intl/en_in/policies/terms/\">Terms</a></td></tr></tbody></table></div></div><div> </div></body></html>"
      ]
     },
     "execution_count": 40,
     "metadata": {},
     "output_type": "execute_result"
    }
   ],
   "source": [
    "Soup"
   ]
  },
  {
   "cell_type": "code",
   "execution_count": 41,
   "id": "4ae37c52",
   "metadata": {},
   "outputs": [],
   "source": [
    "image_tags=Soup.find_all(\"img\")"
   ]
  },
  {
   "cell_type": "code",
   "execution_count": 42,
   "id": "1708cd4d",
   "metadata": {},
   "outputs": [
    {
     "data": {
      "text/plain": [
       "[<img alt=\"Google\" class=\"kgJEQe\" src=\"/images/branding/searchlogo/1x/googlelogo_desk_heirloom_color_150x55dp.gif\"/>,\n",
       " <img alt=\"\" class=\"yWs4tf\" src=\"https://encrypted-tbn0.gstatic.com/images?q=tbn:ANd9GcSOPiBk25Ve4ouTl7oqmk2oTJLzSmGZ8X-aFXdPB7cuVGJYtBssSPZfjwfUt4U&amp;s\"/>,\n",
       " <img alt=\"\" class=\"yWs4tf\" src=\"https://encrypted-tbn0.gstatic.com/images?q=tbn:ANd9GcSPmd2vpB5TkcWMqZ3v2747A58GAQPvn3oxZuvKbyK94NWBTVZRtoan1g62Iw&amp;s\"/>,\n",
       " <img alt=\"\" class=\"yWs4tf\" src=\"https://encrypted-tbn0.gstatic.com/images?q=tbn:ANd9GcTt8htWwl_CMSBNeT66lRrmapbgqCA9g4PgNNJMfXhw71_Z9GdYYtiJSryo_1s&amp;s\"/>,\n",
       " <img alt=\"\" class=\"yWs4tf\" src=\"https://encrypted-tbn0.gstatic.com/images?q=tbn:ANd9GcRfHPyOjRMreJs6tOX4cZ_UmZro5DVUjwAwn2NniuTdHxnoKUN-p7AV0Xrzjw&amp;s\"/>,\n",
       " <img alt=\"\" class=\"yWs4tf\" src=\"https://encrypted-tbn0.gstatic.com/images?q=tbn:ANd9GcQ9s-KW2XbZmjiGNTLPaMTVksW5J4ACWbWggcgGB4bqMByf5UqnmmtQ7ZFk6Tg&amp;s\"/>,\n",
       " <img alt=\"\" class=\"yWs4tf\" src=\"https://encrypted-tbn0.gstatic.com/images?q=tbn:ANd9GcQFnfS9zb-tq0S62eYq6LFHMwSy22kgPRpIg2Xt4BUvUjtse-L6ho5qXbiIqFM&amp;s\"/>,\n",
       " <img alt=\"\" class=\"yWs4tf\" src=\"https://encrypted-tbn0.gstatic.com/images?q=tbn:ANd9GcSiuM6xKdWvmuUjTcow4aYnhIX0fUYNHqpsIVddjdiboBA1Kpnh8QLJB9MCwg&amp;s\"/>,\n",
       " <img alt=\"\" class=\"yWs4tf\" src=\"https://encrypted-tbn0.gstatic.com/images?q=tbn:ANd9GcSRFlBP-hH_sbeZ-gqTWj5yv9Z21PX9urEUbe3ZkEqp8JsDpp9j-8bNtJMXfg&amp;s\"/>,\n",
       " <img alt=\"\" class=\"yWs4tf\" src=\"https://encrypted-tbn0.gstatic.com/images?q=tbn:ANd9GcT7AtQ0cCO-bFCwNq624byXz_wSii5ot7k1npDYr5WEkmd06aq3ajiKY_mqEA&amp;s\"/>,\n",
       " <img alt=\"\" class=\"yWs4tf\" src=\"https://encrypted-tbn0.gstatic.com/images?q=tbn:ANd9GcSBt96nAcow0edJDrYV19c1Kw2hk4uUJ2MDDL9XYrJbYwXKq6J1G78fqefHPaA&amp;s\"/>,\n",
       " <img alt=\"\" class=\"yWs4tf\" src=\"https://encrypted-tbn0.gstatic.com/images?q=tbn:ANd9GcRrWbSaRzq2PpigqK_Nt4t_hTaBQ5u3yUgzF191Qct8EhIps1-svwctwp0q0JA&amp;s\"/>,\n",
       " <img alt=\"\" class=\"yWs4tf\" src=\"https://encrypted-tbn0.gstatic.com/images?q=tbn:ANd9GcSScQOmdaFkulXgXt_G68mOPSvZ4WviFY_CE73mzWrpQIXhnu5Sqb3YBDU-cLY&amp;s\"/>,\n",
       " <img alt=\"\" class=\"yWs4tf\" src=\"https://encrypted-tbn0.gstatic.com/images?q=tbn:ANd9GcRE39jy3EkchFrOpvCIyyhkigjXvOi1J0E4cXQK8orvWT_ETKTyk3u3_aOsQ-A&amp;s\"/>,\n",
       " <img alt=\"\" class=\"yWs4tf\" src=\"https://encrypted-tbn0.gstatic.com/images?q=tbn:ANd9GcTrEg7hyAzOSuJh_0YRv4GgJhojoLHTm-g5qyNaaJ1OGY9Ngmq-l4x4v3dxIQ&amp;s\"/>,\n",
       " <img alt=\"\" class=\"yWs4tf\" src=\"https://encrypted-tbn0.gstatic.com/images?q=tbn:ANd9GcR9wOygeTLT9rxxr17ih4kEYsZSQAcMjIJHdxZvfeaXg-HPGMseCJC83FYrXQ&amp;s\"/>,\n",
       " <img alt=\"\" class=\"yWs4tf\" src=\"https://encrypted-tbn0.gstatic.com/images?q=tbn:ANd9GcR_Omi17ZKnnp3PsgN1zkd_L8FjGlkTQl1y3L6JrzjISzQ8dfbRrjZySGfUCQ&amp;s\"/>,\n",
       " <img alt=\"\" class=\"yWs4tf\" src=\"https://encrypted-tbn0.gstatic.com/images?q=tbn:ANd9GcTu1VgHBrm9Ilm2-onnZ0MIPEb3ym7F6gvcF9Ec6MPWAhj7sdrMFagx2_11yg&amp;s\"/>,\n",
       " <img alt=\"\" class=\"yWs4tf\" src=\"https://encrypted-tbn0.gstatic.com/images?q=tbn:ANd9GcRxI5hGI6biQGc8wrJU5Poewwy9CDQv3Hyiz3_QwzDFM3jBkVlP9XFVhP5Bup8&amp;s\"/>,\n",
       " <img alt=\"\" class=\"yWs4tf\" src=\"https://encrypted-tbn0.gstatic.com/images?q=tbn:ANd9GcTH7x1w6POOsjWzx-Xzb1YvN39a8qP25-6RDjoJCA_piSxkpX8eNyZCxA6IUWw&amp;s\"/>,\n",
       " <img alt=\"\" class=\"yWs4tf\" src=\"https://encrypted-tbn0.gstatic.com/images?q=tbn:ANd9GcRw3ICMzyQFHcEGDm4FP2Su_vBmpyGnDXmoAR0qJrkiR5KmRAwDYEkpKUIkVg&amp;s\"/>]"
      ]
     },
     "execution_count": 42,
     "metadata": {},
     "output_type": "execute_result"
    }
   ],
   "source": [
    "image_tags"
   ]
  },
  {
   "cell_type": "code",
   "execution_count": 43,
   "id": "85f57bf5",
   "metadata": {},
   "outputs": [
    {
     "data": {
      "text/plain": [
       "21"
      ]
     },
     "execution_count": 43,
     "metadata": {},
     "output_type": "execute_result"
    }
   ],
   "source": [
    "len(image_tags)"
   ]
  },
  {
   "cell_type": "code",
   "execution_count": 44,
   "id": "d317d4a5",
   "metadata": {},
   "outputs": [],
   "source": [
    "del image_tags[0]"
   ]
  },
  {
   "cell_type": "code",
   "execution_count": 45,
   "id": "8a8bb187",
   "metadata": {},
   "outputs": [
    {
     "data": {
      "text/plain": [
       "20"
      ]
     },
     "execution_count": 45,
     "metadata": {},
     "output_type": "execute_result"
    }
   ],
   "source": [
    "len(image_tags)"
   ]
  },
  {
   "cell_type": "code",
   "execution_count": 46,
   "id": "d55e0459",
   "metadata": {},
   "outputs": [],
   "source": [
    "for i in image_tags:\n",
    "    image_url=i['src']\n",
    "    image_data=requests.get(image_url).content\n",
    "    with open(os.path.join(save_dir,f\"{query}_{image_tags.index(i)}.jpg\"),\"wb\") as f:\n",
    "        f.write(image_data)"
   ]
  },
  {
   "cell_type": "code",
   "execution_count": null,
   "id": "e3d323ef",
   "metadata": {},
   "outputs": [],
   "source": []
  }
 ],
 "metadata": {
  "kernelspec": {
   "display_name": "Python 3 (ipykernel)",
   "language": "python",
   "name": "python3"
  },
  "language_info": {
   "codemirror_mode": {
    "name": "ipython",
    "version": 3
   },
   "file_extension": ".py",
   "mimetype": "text/x-python",
   "name": "python",
   "nbconvert_exporter": "python",
   "pygments_lexer": "ipython3",
   "version": "3.11.3"
  }
 },
 "nbformat": 4,
 "nbformat_minor": 5
}
